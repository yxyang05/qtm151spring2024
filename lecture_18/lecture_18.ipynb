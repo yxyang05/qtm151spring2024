{
 "cells": [
  {
   "attachments": {},
   "cell_type": "markdown",
   "metadata": {},
   "source": [
    "# <span style=\"color:darkblue\"> Lecture 18 - Connecting to SQL via Python </span>\n",
    "\n",
    "<font size = \"5\">\n",
    "\n",
    "In the past lecture:\n",
    "\n",
    "- We worked directly in SQL\n",
    "- Carried out basic dataset operations\n",
    "\n",
    "In  this lecture we will run SQL from Python\n",
    "\n",
    "- Combine the best of both!\n",
    "- Learn about escape characters!"
   ]
  },
  {
   "cell_type": "markdown",
   "metadata": {},
   "source": [
    "# <span style=\"color:darkblue\"> I. Import Libraries and Data </span>\n"
   ]
  },
  {
   "cell_type": "markdown",
   "metadata": {},
   "source": [
    "<font size = \"5\">\n",
    "\n",
    "<span style=\"color:red\"> Before starting </span> make sure that you have the Python libraries <br>\n",
    "\"psycopg2\" and \"sqlalchemy\" installed in Anaconda\n"
   ]
  },
  {
   "attachments": {},
   "cell_type": "markdown",
   "metadata": {},
   "source": [
    "<font size = \"5\">\n",
    "\n",
    "Import libraries"
   ]
  },
  {
   "cell_type": "code",
   "execution_count": 4,
   "metadata": {},
   "outputs": [],
   "source": [
    "# psycogpg2 helps us process SQL commands to send to the server\n",
    "# sqlalchemy facilitates establishing a connection with the server\n",
    "\n",
    "import pandas as pd\n",
    "from sqlalchemy import create_engine\n",
    "from   sqlalchemy.engine import URL\n",
    "from   sqlalchemy import text"
   ]
  },
  {
   "attachments": {},
   "cell_type": "markdown",
   "metadata": {},
   "source": [
    "<font size = \"5\">\n",
    "\n",
    "Import Data"
   ]
  },
  {
   "cell_type": "code",
   "execution_count": 5,
   "metadata": {},
   "outputs": [],
   "source": [
    "# Import the two car racing datasets\n",
    "\n",
    "results = pd.read_csv(\"data_raw/results.csv\")\n",
    "races = pd.read_csv(\"data_raw/races.csv\")\n",
    "circuits = pd.read_csv(\"data_raw/circuits.csv\")"
   ]
  },
  {
   "attachments": {},
   "cell_type": "markdown",
   "metadata": {},
   "source": [
    "<font size = \"5\">\n",
    "\n",
    "Connect to SQL server\n",
    "\n",
    "- In the default instructions we set <br>\n",
    "the password to \"12345\" in windows and <br>\n",
    "no password for Mac\n",
    "- ADJUST code accordingly! "
   ]
  },
  {
   "cell_type": "code",
   "execution_count": 10,
   "metadata": {},
   "outputs": [],
   "source": [
    "# Use the connection details to your server\n",
    "# These are the default settings.\n",
    "# \"postgresql\" is a fixed argument\n",
    "# If you have a different host,database, username, or password,\n",
    "# change the corresponding connection details\n",
    "\n",
    "\n",
    "url_server = URL.create(\n",
    "    \"postgresql\",\n",
    "    host = '127.0.0.1',\n",
    "    database = 'postgres',\n",
    "    username = 'postgres',\n",
    "    port = 5432)\n",
    "\n",
    "connection = create_engine(url_server)\n"
   ]
  },
  {
   "attachments": {},
   "cell_type": "markdown",
   "metadata": {},
   "source": [
    "<font size = \"5\">\n",
    "\n",
    "Upload data to SQL"
   ]
  },
  {
   "cell_type": "code",
   "execution_count": 11,
   "metadata": {},
   "outputs": [
    {
     "data": {
      "text/plain": [
       "102"
      ]
     },
     "execution_count": 11,
     "metadata": {},
     "output_type": "execute_result"
    }
   ],
   "source": [
    "# Import the \"results\" table, with the name \"results_sql\"\n",
    "# Con is an argument to specify the server connection\n",
    "# \"if_exists\" is an option to replace the table if it already exists\n",
    "# You can choose any name instead of \"results_sql\"\n",
    "\n",
    "results.to_sql('results',\n",
    "               con = connection,\n",
    "               if_exists='replace',\n",
    "               index=False)\n",
    "\n",
    "# Import \"races\"\n",
    "races.to_sql('races', \n",
    "             con = connection, \n",
    "             if_exists='replace',\n",
    "             index=False)"
   ]
  },
  {
   "attachments": {},
   "cell_type": "markdown",
   "metadata": {},
   "source": [
    "<font size = \"5\">\n",
    "\n",
    "Try it yourself!\n",
    "\n",
    "- Upload the \"circuits table\" into SQL <br>\n",
    "using \".to_sql()\""
   ]
  },
  {
   "cell_type": "code",
   "execution_count": null,
   "metadata": {},
   "outputs": [],
   "source": [
    "# Write your own code\n",
    "\n",
    "\n"
   ]
  },
  {
   "attachments": {},
   "cell_type": "markdown",
   "metadata": {},
   "source": [
    "# <span style=\"color:darkblue\"> II. \"Escape\" Characters </span>\n",
    "\n",
    "<font size = \"5\">\n",
    "\n",
    "- Backslash (\\\\) is known as an escape character\n",
    "- Used for special operations on strings\n",
    "- Great for working with text!"
   ]
  },
  {
   "attachments": {},
   "cell_type": "markdown",
   "metadata": {},
   "source": [
    "<font size = \"5\">\n",
    "\n",
    "Multi-line strings (\" \\ \")"
   ]
  },
  {
   "cell_type": "code",
   "execution_count": null,
   "metadata": {},
   "outputs": [],
   "source": [
    "# Use a backslash to define strins over multiple lines\n",
    "# Do not include a space after \"\\\", otherwise it won't work.\n",
    "example_string = \"This is a string \\\n",
    "defined over multiple lines\""
   ]
  },
  {
   "cell_type": "code",
   "execution_count": null,
   "metadata": {},
   "outputs": [
    {
     "data": {
      "text/plain": [
       "'This is a string defined over multiple lines'"
      ]
     },
     "execution_count": 17,
     "metadata": {},
     "output_type": "execute_result"
    }
   ],
   "source": [
    "example_string"
   ]
  },
  {
   "attachments": {},
   "cell_type": "markdown",
   "metadata": {},
   "source": [
    "<font size = \"5\">\n",
    "\n",
    "\"Double quotes\" inside string"
   ]
  },
  {
   "cell_type": "code",
   "execution_count": null,
   "metadata": {},
   "outputs": [
    {
     "data": {
      "text/plain": [
       "'String \"something\" '"
      ]
     },
     "execution_count": 18,
     "metadata": {},
     "output_type": "execute_result"
    }
   ],
   "source": [
    "\"String \\\"something\\\" \""
   ]
  },
  {
   "cell_type": "code",
   "execution_count": null,
   "metadata": {},
   "outputs": [
    {
     "name": "stdout",
     "output_type": "stream",
     "text": [
      "This will \"supposedly\" put double quotes inside a string\n"
     ]
    }
   ],
   "source": [
    "# Use a backslash + quotation \n",
    "\n",
    "example_double = \"This will \\\"supposedly\\\" put double quotes inside a string\"\n",
    "print(example_double)"
   ]
  },
  {
   "attachments": {},
   "cell_type": "markdown",
   "metadata": {},
   "source": [
    "<font size = \"5\" >\n",
    "'Single quotes' inside string"
   ]
  },
  {
   "cell_type": "code",
   "execution_count": null,
   "metadata": {},
   "outputs": [
    {
     "name": "stdout",
     "output_type": "stream",
     "text": [
      "This will 'supposedly' put single quotes inside a string\n"
     ]
    }
   ],
   "source": [
    "# There is no need for a backslash given single quotes \n",
    "\n",
    "example_single = \"This will 'supposedly' put single quotes inside a string\"\n",
    "print(example_single)\n"
   ]
  },
  {
   "attachments": {},
   "cell_type": "markdown",
   "metadata": {},
   "source": [
    "<font size = \"5\">\n",
    "\n",
    "Try it yourself!\n",
    "\n",
    "- Print a string ``` SELECT \"driverId\" FROM results; ``` <br> \n",
    "using backslash"
   ]
  },
  {
   "cell_type": "code",
   "execution_count": 1,
   "metadata": {},
   "outputs": [
    {
     "name": "stdout",
     "output_type": "stream",
     "text": [
      "Select \"driverId\" FROM results;\n"
     ]
    }
   ],
   "source": [
    "# Write your own code\n",
    "commandString = \"Select \\\"driverId\\\" FROM results;\"\n",
    "print(commandString)\n",
    "\n",
    "\n",
    "#when using a language through another language\n",
    "#use a intermissionary variable"
   ]
  },
  {
   "attachments": {},
   "cell_type": "markdown",
   "metadata": {},
   "source": [
    "# <span style=\"color:darkblue\"> III. Data operations </span>\n",
    "\n",
    "<font size = \"5\">\n",
    "\n",
    "- In SQL, operations are often called \"queries\"\n"
   ]
  },
  {
   "attachments": {},
   "cell_type": "markdown",
   "metadata": {},
   "source": [
    "<font size = \"5\">\n",
    "\n",
    "Import Data from SQL"
   ]
  },
  {
   "cell_type": "code",
   "execution_count": 4,
   "metadata": {},
   "outputs": [
    {
     "ename": "NameError",
     "evalue": "name 'connection' is not defined",
     "output_type": "error",
     "traceback": [
      "\u001b[0;31m---------------------------------------------------------------------------\u001b[0m",
      "\u001b[0;31mNameError\u001b[0m                                 Traceback (most recent call last)",
      "Cell \u001b[0;32mIn[4], line 2\u001b[0m\n\u001b[1;32m      1\u001b[0m \u001b[38;5;66;03m#connection was created earlier\u001b[39;00m\n\u001b[0;32m----> 2\u001b[0m pd\u001b[38;5;241m.\u001b[39mread_sql(text(\u001b[38;5;124m\"\u001b[39m\u001b[38;5;124mSELECT * FROM results;\u001b[39m\u001b[38;5;124m\"\u001b[39m), connection)\n",
      "\u001b[0;31mNameError\u001b[0m: name 'connection' is not defined"
     ]
    }
   ],
   "source": [
    "#connection was created earlier\n",
    "pd.read_sql(text(\"SELECT * FROM results;\"), connection)\n",
    "#pd.read.sql(text(commondString), connection)"
   ]
  },
  {
   "cell_type": "code",
   "execution_count": null,
   "metadata": {},
   "outputs": [],
   "source": [
    "# Use \"pd.read_sql()\"\n",
    "# - The first argument is string with instructions wrapped in text()\n",
    "#- The second argument is the server connection\n",
    "\n",
    "# Extract all data from a column\n",
    "example1 = pd.read_sql(text(\"SELECT * FROM results;\"), connection)\n",
    "\n",
    "# Extract a subset of columns\n",
    "example2 = pd.read_sql(text(\"SELECT points \\\n",
    "                             FROM results;\"), connection)\n",
    "\n",
    "# Subset based on a string condition\n",
    "example3 = pd.read_sql(text(\"SELECT * \\\n",
    "                             FROM races \\\n",
    "                             WHERE name = 'Abu Dhabi Grand Prix';\"), connection)\n",
    "\n",
    "\n",
    "# Note: (i) Remember to include \"\\\"  to be able to define\n",
    "#           strings over multiple lines\n",
    "#       (ii) We can include single quotations in the WHERE command\n",
    "#            without any additional escape characters"
   ]
  },
  {
   "attachments": {},
   "cell_type": "markdown",
   "metadata": {},
   "source": [
    "<font size = \"5\">\n",
    "\n",
    "Upper case columns\n",
    "\n",
    "- In SQL syntax we use double quotes e.g. ``` \"driverId\" ```\n",
    "- ```.read_sql()``` requires a string inside a string\n",
    "- To do so, use escape characters, e.g.   ``` \\\"driverId\\\" ```"
   ]
  },
  {
   "cell_type": "code",
   "execution_count": null,
   "metadata": {},
   "outputs": [],
   "source": [
    "# Select a column\n",
    "example4 = pd.read_sql(text('SELECT \"driverId\" \\\n",
    "                             FROM results;'), connection)\n",
    "\n",
    "# Compute an aggregate statistic\n",
    "example5 = pd.read_sql(text(\"SELECT AVG(points) as mean_points \\\n",
    "                             FROM results \\\n",
    "                             GROUP BY \\\"driverId\\\" ;\"), connection)\n"
   ]
  },
  {
   "cell_type": "markdown",
   "metadata": {},
   "source": [
    "<font size = \"5\">\n",
    "\n",
    "Try it yourself!\n",
    "\n",
    "- Select \"nationality\" and \"constructorId\" from results <br>"
   ]
  },
  {
   "cell_type": "code",
   "execution_count": null,
   "metadata": {},
   "outputs": [],
   "source": [
    "# Write your own code\n",
    "\n",
    "\n",
    "\n"
   ]
  },
  {
   "attachments": {},
   "cell_type": "markdown",
   "metadata": {},
   "source": [
    "# <span style=\"color:darkblue\"> IV. Additional Material </span>\n",
    "\n",
    "<font size = \"5\">\n",
    "\n",
    "More about SQL syntax\n",
    "\n",
    "https://www.w3schools.com/sql/\n",
    "\n",
    " <span style=\"color:red\"> How are things stored?: </span> <br>\n",
    "\n",
    "- Operations like uploading, creating, dropping etc. <br>\n",
    "are permanent an are available for other server users <br>\n",
    "who access the data later.\n",
    "- Commands to view the dataset <br>\n",
    "(most of what we did today) <br>\n",
    "are only available during your session <br>\n",
    "and won't make any lasting changes \n",
    "\n"
   ]
  }
 ],
 "metadata": {
  "kernelspec": {
   "display_name": "base",
   "language": "python",
   "name": "python3"
  },
  "language_info": {
   "codemirror_mode": {
    "name": "ipython",
    "version": 3
   },
   "file_extension": ".py",
   "mimetype": "text/x-python",
   "name": "python",
   "nbconvert_exporter": "python",
   "pygments_lexer": "ipython3",
   "version": "3.11.5"
  },
  "orig_nbformat": 4
 },
 "nbformat": 4,
 "nbformat_minor": 2
}
