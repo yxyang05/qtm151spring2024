{
 "cells": [
  {
   "cell_type": "markdown",
   "metadata": {},
   "source": [
    "# Assignment 4"
   ]
  },
  {
   "cell_type": "markdown",
   "metadata": {},
   "source": [
    "## Submit as an HTML file"
   ]
  },
  {
   "cell_type": "markdown",
   "metadata": {},
   "source": [
    "<font size = \"5\">\n",
    "Print your Emory ID below"
   ]
  },
  {
   "cell_type": "code",
   "execution_count": 1,
   "metadata": {},
   "outputs": [
    {
     "name": "stdout",
     "output_type": "stream",
     "text": [
      "2610419\n"
     ]
    }
   ],
   "source": [
    "print(\"2610419\")"
   ]
  },
  {
   "cell_type": "markdown",
   "metadata": {},
   "source": [
    "<font size = \"5\">\n",
    "\n",
    "Import both the MatPlotLib and Numpy libraries"
   ]
  },
  {
   "cell_type": "code",
   "execution_count": 16,
   "metadata": {},
   "outputs": [],
   "source": [
    "import numpy as np\n",
    "import matplotlib.pyplot as plt"
   ]
  },
  {
   "cell_type": "markdown",
   "metadata": {},
   "source": [
    "<font size = \"5\">\n",
    "\n",
    "1. For-loops to count conditional statements\n",
    "\n",
    "<font size = \"3\">\n",
    "\n",
    "   - Define a custom list of people's ages <br>\n",
    "   (write down ages for 8 people, between ten and fifty)\n",
    "   - Define an empty list called ```list_eligible```\n",
    "   - Use a For-Loop that goes through the ages of the 8 people, then appends the <br>\n",
    "   value ```True``` to  ```list_eligible``` if their age is greater than or equal to 16 <br>\n",
    "   and ```False``` otherwise\n"
   ]
  },
  {
   "cell_type": "code",
   "execution_count": 14,
   "metadata": {},
   "outputs": [
    {
     "data": {
      "text/plain": [
       "[True, True, False, True, True, True, True, False]"
      ]
     },
     "execution_count": 14,
     "metadata": {},
     "output_type": "execute_result"
    }
   ],
   "source": [
    "list_ages = [20,25,15,32,38,40,49,12]\n",
    "list_eligible = []\n",
    "\n",
    "for age in list_ages:\n",
    "    list_eligible.append(age >= 16)\n",
    "\n",
    "list_eligible\n"
   ]
  },
  {
   "cell_type": "markdown",
   "metadata": {},
   "source": [
    "<font size = \"5\">\n",
    "\n",
    "2.  This is a follow-up to question 1. \n",
    "\n",
    "<font size = \"3\">\n",
    "\n",
    "- If you run ```np.sum(list_eligible)```, what value is Python assigning to <br>\n",
    " ```True``` or ```False``` elements in the sum? Write you answer as a comment.\n",
    "- How would you use this information to count the amount of people who are <br>\n",
    "**NOT** eligible? Write code that answers this question.\n",
    "\n",
    "   "
   ]
  },
  {
   "cell_type": "code",
   "execution_count": 22,
   "metadata": {},
   "outputs": [
    {
     "data": {
      "text/plain": [
       "6"
      ]
     },
     "execution_count": 22,
     "metadata": {},
     "output_type": "execute_result"
    }
   ],
   "source": [
    "# with np.sum(list_eligible), Python will assign 1 to True values and 0 to False\n",
    "\n",
    "not_eligible = 0;\n",
    "for value in list_eligible:\n",
    "    if value == 0:\n",
    "        not_eligible += 1\n",
    "\n",
    "not_eligible\n",
    "\n",
    "#or value == False\n"
   ]
  },
  {
   "cell_type": "markdown",
   "metadata": {},
   "source": [
    "<font size = \"5\">\n",
    "\n",
    "3. Use a For-Loop for message automation \n",
    "\n",
    "<font size = \"3\">\n",
    "\n",
    "- Write your own list of customer names\n",
    "- Print an automated message with the unique name of the customer that tells <br>\n",
    "them they've won a giveaway \n",
    "- How many messages to do you expect to see? Write code that automatically <br>\n",
    "prints the size of the customer list"
   ]
  },
  {
   "cell_type": "code",
   "execution_count": 26,
   "metadata": {},
   "outputs": [
    {
     "name": "stdout",
     "output_type": "stream",
     "text": [
      "Congrats, Ethan! You just won the lottery!\n",
      "Congrats, Crystal! You just won the lottery!\n",
      "Congrats, Rohan! You just won the lottery!\n",
      "Congrats, Andrew! You just won the lottery!\n",
      "4 customers on the list.\n"
     ]
    }
   ],
   "source": [
    "list_customers = [\"Ethan\",\"Crystal\",\"Rohan\",\"Andrew\"]\n",
    "\n",
    "for customer in list_customers:\n",
    "    print(\"Congrats, \" + customer + \"! You just won the lottery!\")\n",
    "\n",
    "#4 messages\n",
    "print(str(len(list_customers)) + \" customers on the list.\")\n",
    "\n",
    "\n",
    "    "
   ]
  },
  {
   "cell_type": "markdown",
   "metadata": {},
   "source": [
    "<font size = '5'>\n",
    "\n",
    "4. For-Loops + Plotting\n",
    "\n",
    "<font size = \"3\">\n",
    "\n",
    "   - Create an array of x-values with all the integers between 1 and 10\n",
    "   - Create a vector ```vec_y1``` where each element is computed from <br>\n",
    "   the formula $ y_1 = 0.5x^4 + 2x^2 + 4x$.\n",
    "   - Create a vector ```vec_y2``` where each element is computed from <br>\n",
    "   the formula $ y_2 = 2x^3 + 4x + 4$.\n",
    "   - Create an object ```list_vectors``` with elements ```vec_y1``` and ```vec_y2```\n",
    "   - Create a for-loop that goes through each element of <br>\n",
    "   ```list_vectors``` and plots each list of $y$ values against $x$\n",
    "\n",
    "Note: The final output should be a 2 dimensional scatter plot with two sets, <br>\n",
    "of points, with the $y_1$ and $y_2$ on the vertical axis, and the $x$ values <br>\n",
    "on the horizontal axis. Remember to always label the axes to make it look <br>\n",
    "more professional."
   ]
  },
  {
   "cell_type": "code",
   "execution_count": 34,
   "metadata": {},
   "outputs": [
    {
     "data": {
      "image/png": "[encoded data removed]",
      "text/plain": [
       "<Figure size 640x480 with 1 Axes>"
      ]
     },
     "metadata": {},
     "output_type": "display_data"
    }
   ],
   "source": [
    "array_x = np.array([1,2,3,4,5,6,7,8,9,10])\n",
    "vec_y1 = 0.5 * (array_x**4) + 2 * (array_x**2) + 4*array_x\n",
    "vec_y2 = 2 * (array_x**3) + 4 * array_x + 4\n",
    "\n",
    "list_vectors = [vec_y1, vec_y2]\n",
    "\n",
    "for vector_y in list_vectors:\n",
    "    plt.scatter(x = array_x, y = vector_y)\n",
    "    plt.xlabel(\"X Variable\")\n",
    "    plt.ylabel(\"Y Function\")\n",
    "    plt.show\n",
    "\n"
   ]
  },
  {
   "cell_type": "markdown",
   "metadata": {},
   "source": [
    "<font size = \"5\">\n",
    "\n",
    "5. Loops + Multiple Lists\n",
    "\n",
    "<font size =\"3\">\n",
    "\n",
    "Before starting, read the following information about nested loops:\n",
    "\n",
    "https://www.w3schools.com/python/gloss_python_for_nested.asp\n",
    "\n",
    "<img src=\"figures/grading_scale.png\" alt=\"drawing\" width=\"600\"/>\n",
    "\n",
    "- Convert the following three lists to arrays\n",
    "\n",
    "```list_lower = [93, 87, 83, 80, 75, 70, 65, 60, 55, 0] ``` <br>\n",
    "```list_upper = [100,92, 86, 82, 79, 74, 69, 64, 59, 54] ``` <br>\n",
    "```list_letters = [\"A\",\"A-\",\"B+\",\"B\",\"B-\",\"C+\",\"C\",\"C-\",\"D\",\"F\"] ```\n",
    "\n",
    "- Convert the following list of student grades to an array\n",
    "\n",
    "```list_studentgrades = [80, 70, 96, 65, 92] ```\n",
    "\n",
    "- Create a nested for-loop that outputs\n",
    "\n",
    "\"The student got a numeric grade of .... and their letter grade was ...\"\n",
    "\n",
    "Example of the procedure:\n",
    "1. Start with the first student on the list, who's grade is 80.\n",
    "2. Check whether the student's grade is an A by checking whether 80 is between <br>\n",
    "93 and 100. Then check whether it's a B by checking whether the grade is between <br>\n",
    "87 and 92, and so on. This is the \"inner loop\".\n",
    "3. Within the inner loop, if you find the right grade bracket, print the <br>\n",
    "desired message. Else, do not print anything.\n",
    "4. Do this procedure for all students, i.e. the \"outer loop\".\n",
    "\n",
    "\n",
    "\n"
   ]
  },
  {
   "cell_type": "code",
   "execution_count": 96,
   "metadata": {},
   "outputs": [
    {
     "name": "stdout",
     "output_type": "stream",
     "text": [
      "The student got a numeric grade of 80 and their letter grade was A\n",
      "The student got a numeric grade of 80 and their letter grade was A-\n",
      "The student got a numeric grade of 80 and their letter grade was B+\n",
      "The student got a numeric grade of 80 and their letter grade was B\n",
      "The student got a numeric grade of 80 and their letter grade was B-\n",
      "The student got a numeric grade of 80 and their letter grade was C+\n",
      "The student got a numeric grade of 80 and their letter grade was C\n",
      "The student got a numeric grade of 80 and their letter grade was C-\n",
      "The student got a numeric grade of 80 and their letter grade was D\n",
      "The student got a numeric grade of 80 and their letter grade was F\n",
      "The student got a numeric grade of 70 and their letter grade was A\n",
      "The student got a numeric grade of 70 and their letter grade was A-\n",
      "The student got a numeric grade of 70 and their letter grade was B+\n",
      "The student got a numeric grade of 70 and their letter grade was B\n",
      "The student got a numeric grade of 70 and their letter grade was B-\n",
      "The student got a numeric grade of 70 and their letter grade was C+\n",
      "The student got a numeric grade of 70 and their letter grade was C\n",
      "The student got a numeric grade of 70 and their letter grade was C-\n",
      "The student got a numeric grade of 70 and their letter grade was D\n",
      "The student got a numeric grade of 70 and their letter grade was F\n",
      "The student got a numeric grade of 96 and their letter grade was A\n",
      "The student got a numeric grade of 96 and their letter grade was A-\n",
      "The student got a numeric grade of 96 and their letter grade was B+\n",
      "The student got a numeric grade of 96 and their letter grade was B\n",
      "The student got a numeric grade of 96 and their letter grade was B-\n",
      "The student got a numeric grade of 96 and their letter grade was C+\n",
      "The student got a numeric grade of 96 and their letter grade was C\n",
      "The student got a numeric grade of 96 and their letter grade was C-\n",
      "The student got a numeric grade of 96 and their letter grade was D\n",
      "The student got a numeric grade of 96 and their letter grade was F\n",
      "The student got a numeric grade of 65 and their letter grade was A\n",
      "The student got a numeric grade of 65 and their letter grade was A-\n",
      "The student got a numeric grade of 65 and their letter grade was B+\n",
      "The student got a numeric grade of 65 and their letter grade was B\n",
      "The student got a numeric grade of 65 and their letter grade was B-\n",
      "The student got a numeric grade of 65 and their letter grade was C+\n",
      "The student got a numeric grade of 65 and their letter grade was C\n",
      "The student got a numeric grade of 65 and their letter grade was C-\n",
      "The student got a numeric grade of 65 and their letter grade was D\n",
      "The student got a numeric grade of 65 and their letter grade was F\n",
      "The student got a numeric grade of 92 and their letter grade was A\n",
      "The student got a numeric grade of 92 and their letter grade was A-\n",
      "The student got a numeric grade of 92 and their letter grade was B+\n",
      "The student got a numeric grade of 92 and their letter grade was B\n",
      "The student got a numeric grade of 92 and their letter grade was B-\n",
      "The student got a numeric grade of 92 and their letter grade was C+\n",
      "The student got a numeric grade of 92 and their letter grade was C\n",
      "The student got a numeric grade of 92 and their letter grade was C-\n",
      "The student got a numeric grade of 92 and their letter grade was D\n",
      "The student got a numeric grade of 92 and their letter grade was F\n"
     ]
    }
   ],
   "source": [
    "list_lower = [93, 87, 83, 80, 75, 70, 65, 60, 55, 0]\n",
    "list_upper = [100,92, 86, 82, 79, 74, 69, 64, 59, 54]\n",
    "list_letters = [\"A\",\"A-\",\"B+\",\"B\",\"B-\",\"C+\",\"C\",\"C-\",\"D\",\"F\"]\n",
    "array_lower = np.array(list_lower)\n",
    "array_upper = np.array(list_upper)\n",
    "array_letters = np.array(list_letters)\n",
    "\n",
    "list_studentgrades = [80, 70, 96, 65, 92]\n",
    "array_studentgrades = np.array(list_studentgrades)\n",
    "\n",
    "for student in array_studentgrades:\n",
    "    for i in range(len(array_upper)):\n",
    "        if student >= array_lower[i] & student <= array_upper[i]:\n",
    "            print(\"The student got a numeric grade of \" + str(student) + \" and their letter grade was \" + array_letters[i])\n"
   ]
  },
  {
   "cell_type": "code",
   "execution_count": 90,
   "metadata": {},
   "outputs": [
    {
     "name": "stdout",
     "output_type": "stream",
     "text": [
      "C+\n",
      "C+\n",
      "C+\n",
      "70\n"
     ]
    }
   ],
   "source": [
    "if 71 >= array_lower[5]:\n",
    "    print(\"C+\")\n",
    "\n",
    "if 70 <= array_upper[5]:\n",
    "    print(\"C+\")\n",
    "\n",
    "if 70 >= array_lower[5] & 71 <= array_upper[5]:\n",
    "    print(\"C+\")\n",
    "\n",
    "print(array_lower[5])\n",
    "\n"
   ]
  }
 ],
 "metadata": {
  "kernelspec": {
   "display_name": "base",
   "language": "python",
   "name": "python3"
  },
  "language_info": {
   "codemirror_mode": {
    "name": "ipython",
    "version": 3
   },
   "file_extension": ".py",
   "mimetype": "text/x-python",
   "name": "python",
   "nbconvert_exporter": "python",
   "pygments_lexer": "ipython3",
   "version": "3.9.13"
  }
 },
 "nbformat": 4,
 "nbformat_minor": 2
}
