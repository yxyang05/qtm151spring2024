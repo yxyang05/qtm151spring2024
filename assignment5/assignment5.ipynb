{
 "cells": [
  {
   "attachments": {},
   "cell_type": "markdown",
   "metadata": {},
   "source": [
    "# Assignment 5"
   ]
  },
  {
   "attachments": {},
   "cell_type": "markdown",
   "metadata": {},
   "source": [
    "## Try to submit as an HTML file"
   ]
  },
  {
   "attachments": {},
   "cell_type": "markdown",
   "metadata": {},
   "source": [
    "<font size = \"5\">\n",
    "Print your Emory code below"
   ]
  },
  {
   "cell_type": "code",
   "execution_count": 1,
   "metadata": {},
   "outputs": [
    {
     "name": "stdout",
     "output_type": "stream",
     "text": [
      "2610419\n"
     ]
    }
   ],
   "source": [
    "print(\"2610419\")\n"
   ]
  },
  {
   "attachments": {},
   "cell_type": "markdown",
   "metadata": {},
   "source": [
    "<font size = \"5\">\n",
    "\n",
    "Import the \"pandas\" library"
   ]
  },
  {
   "cell_type": "code",
   "execution_count": 2,
   "metadata": {},
   "outputs": [],
   "source": [
    "import pandas as pd\n"
   ]
  },
  {
   "attachments": {},
   "cell_type": "markdown",
   "metadata": {},
   "source": [
    "<font size = \"5\">\n",
    "\n",
    "Import the  \"os\" library\n",
    "\n",
    "- This is the \"operating system\" library\n",
    "- Helpful for managing folders"
   ]
  },
  {
   "cell_type": "code",
   "execution_count": 3,
   "metadata": {},
   "outputs": [],
   "source": [
    "import os\n"
   ]
  },
  {
   "attachments": {},
   "cell_type": "markdown",
   "metadata": {},
   "source": [
    "<font size = \"5\">\n",
    "\n",
    "(a) Check the working directory\n",
    "\n",
    "<font size = \"3\">\n",
    "\n",
    "- We will use a new command ``` os.getcwd() ```\n",
    "- This shows you the current working directory (CWD) in your computer\n",
    "- This is usually the folder where your Python notebook is stored\n",
    "\n",
    "(1) Run the following commands:\n",
    "\n",
    "- Get CWD: ``` current_directory = os.getcwd() ```\n",
    "- Print CWD: ``` print(current_directory) ```\n",
    "\n",
    "(2) After getting the working directory, let's check the contents in the cwd. <br>\n",
    "\n",
    "(Please do this in a seperate markdown chunk)\n",
    "\n",
    "- Store the names of the files in the current directory <br>\n",
    "to a list using the command <br>\n",
    "``` os.listdir() ```\n",
    "- Print the list of files: `print(ls_files)`\n",
    "\n",
    "(3) You would see a folder called wdi_data, let's explore what is contained in it.\n",
    "\n",
    "- Change the working directory as the path to folder `wdi_data`: \n",
    "    - Try both\n",
    "        - ```os.chdir(current_directory+\"/\"+ls_files[2])```<br>\n",
    "         (change the list position to reflect the location of 'wdi_data' if necessary)\n",
    "        - ```os.chdir(current_directory+\"/wdi_data\")```\n",
    "\n",
    "- Get the CWR and check the files and folders in the directory: <br>\n",
    " ```print(os.listdir(os.getcwd()))```\n",
    "\n",
    "(4) Change your working directory back to the original ```current_directory```\n"
   ]
  },
  {
   "cell_type": "code",
   "execution_count": 13,
   "metadata": {},
   "outputs": [
    {
     "name": "stdout",
     "output_type": "stream",
     "text": [
      "/Users/yxyang/Documents/Courses/Spring2024/QTM151/assignment5\n"
     ]
    }
   ],
   "source": [
    "current_directory = os.getcwd()\n",
    "print(current_directory)\n"
   ]
  },
  {
   "cell_type": "code",
   "execution_count": 14,
   "metadata": {},
   "outputs": [
    {
     "name": "stdout",
     "output_type": "stream",
     "text": [
      "['.DS_Store', 'wdi_data', 'assignment5.ipynb', 'clean_data', 'homeworkscripts']\n"
     ]
    }
   ],
   "source": [
    "ls_files = os.listdir(current_directory)\n",
    "print(ls_files)\n"
   ]
  },
  {
   "cell_type": "code",
   "execution_count": 6,
   "metadata": {},
   "outputs": [
    {
     "name": "stdout",
     "output_type": "stream",
     "text": [
      "['wdi_2020.csv', 'wdi_2000.csv', 'features.xlsx']\n"
     ]
    }
   ],
   "source": [
    "os.chdir(current_directory+\"/\"+ls_files[1])\n",
    "os.chdir(current_directory+\"/wdi_data\")\n",
    "\n",
    "print(os.listdir(os.getcwd()))\n"
   ]
  },
  {
   "cell_type": "code",
   "execution_count": 15,
   "metadata": {},
   "outputs": [
    {
     "name": "stdout",
     "output_type": "stream",
     "text": [
      "['.DS_Store', 'wdi_data', 'assignment5.ipynb', 'clean_data', 'homeworkscripts']\n"
     ]
    }
   ],
   "source": [
    "os.chdir(current_directory)\n",
    "print(os.listdir(os.getcwd()))"
   ]
  },
  {
   "attachments": {},
   "cell_type": "markdown",
   "metadata": {},
   "source": [
    "<font size = \"5\">\n",
    "(b) Store dataset `wdi_2000.csv` in another folder\n",
    "\n",
    "<font size = \"3\">\n",
    "\n",
    "<br>\n",
    "\n",
    "- Create a variable: $\\quad$ ``` dataset_name  = \"wdi_2000.csv\" ```\n",
    "- Create a variable: $\\quad$ ``` old_directory = \"wdi_data/\" ```\n",
    "- Create a variable: $\\quad$ ``` new_directory = \"clean_data/\" ```\n",
    "- Create a variable \n",
    "$\\quad$ ``` old_path  = old_directory +  dataset_name```\n",
    "- Create a variable \n",
    "$\\quad$ ``` new_path  = new_directory +  dataset_name```\n",
    "- Read the the csv file in the old location and save it to the new location\n",
    "\n"
   ]
  },
  {
   "cell_type": "code",
   "execution_count": 26,
   "metadata": {},
   "outputs": [
    {
     "name": "stdout",
     "output_type": "stream",
     "text": [
      "wdi_data/\n",
      "clean_data/\n",
      "wdi_data/wdi_2000.csv\n",
      "clean_data/wdi_2000.csv\n"
     ]
    }
   ],
   "source": [
    "dataset_name = \"wdi_2000.csv\"\n",
    "\n",
    "old_directory = \"wdi_data/\"\n",
    "new_directory = \"clean_data/\"\n",
    "print(old_directory)\n",
    "print(new_directory)\n",
    "\n",
    "old_path = old_directory + dataset_name\n",
    "new_path = new_directory + dataset_name\n",
    "print(old_path)\n",
    "print(new_path)\n",
    "\n",
    "wdi_2000 = pd.read_csv(old_path)\n",
    "#        = pd.read_csv(\"wdi_data/wdi_2000.csv\")\n",
    "wdi_2000.to_csv(new_path)"
   ]
  },
  {
   "attachments": {},
   "cell_type": "markdown",
   "metadata": {},
   "source": [
    "<font size = \"5\">\n",
    "\n",
    "(c) Extract files from a directory\n",
    "\n",
    "\n",
    "<font size = \"3\" >\n",
    "- Get a list of files in the \"wdi_data\" folder\n",
    "\n",
    " ``` list_filenames = os.listdir(\"wdi_data\") ```\n",
    "\n",
    " - Print the list of files\n",
    " - Create an empty list called ```list_csv_files ```\n",
    " - Run a for-loop over ```list_filenames```\n",
    " - Append each element to ```list_csv_files ``` if its name ends in \".csv\"\n",
    " - Add an else statement which prints <br>\n",
    " ``` Filename does not end with .csv```<br>\n",
    "  where \"Filename\" is replaced with the actual file that doesn't end with .csv\n",
    " - Print ```list_csv_files ```\n",
    "\n",
    " The goal is to list all CSV files in the directory\n",
    "\n",
    " HINT:\n",
    " - Read the lecture on boolean variables\n",
    " - To get the 4th to  last character of a string <br>\n",
    " you can first find the length of the string and then subtract 4\n",
    " "
   ]
  },
  {
   "cell_type": "code",
   "execution_count": 27,
   "metadata": {},
   "outputs": [
    {
     "name": "stdout",
     "output_type": "stream",
     "text": [
      "The following are the files in the wdi_data folder:\n",
      "['wdi_2020.csv', 'wdi_2000.csv', 'features.xlsx']\n",
      "\n",
      "\n",
      "The file, features.xlsx, does not end with .csv\n",
      "\n",
      " The following are the csv files in teh wdi_data folder:\n",
      "['wdi_2020.csv', 'wdi_2000.csv']\n"
     ]
    }
   ],
   "source": [
    "list_filenames = os.listdir(\"wdi_data\")\n",
    "print(\"The following are the files in the wdi_data folder:\")\n",
    "print(list_filenames)\n",
    "print(\"\\n\")\n",
    "\n",
    "list_csv_files = []\n",
    "for file in list_filenames:\n",
    "    if \".csv\" in file:\n",
    "        list_csv_files.append(file)\n",
    "    else:\n",
    "        print(\"The file, \" + file + \", does not end with .csv\")\n",
    "\n",
    "print(\"\\n The following are the csv files in teh wdi_data folder:\")\n",
    "print(list_csv_files)\n",
    "\n"
   ]
  },
  {
   "attachments": {},
   "cell_type": "markdown",
   "metadata": {},
   "source": [
    "<font size = \"5\">\n",
    "\n",
    "(d) Calculating the number of countries that have a  proportion <br>\n",
    " of urban population between 20 and 60 percent\n",
    "\n",
    "<font size = \"3\">\n",
    "\n",
    "- (1) First read the wdi_2020 dataset.\n",
    "- (2) Then calculate the number of countries(rows) <br>\n",
    "that have their \"prop_urbanpopulation\" column between 20 and 60.\n",
    "- (3) Print the resulting output."
   ]
  },
  {
   "cell_type": "code",
   "execution_count": 61,
   "metadata": {},
   "outputs": [
    {
     "name": "stdout",
     "output_type": "stream",
     "text": [
      "Afghanistan 26.026\n",
      "Africa Eastern and Southern 36.8283008\n",
      "Africa Western and Central 47.85783102\n",
      "Antigua and Barbuda 24.433\n",
      "Arab World 59.08761901\n",
      "Aruba 43.697\n",
      "Austria 58.748\n",
      "Azerbaijan 56.397\n",
      "Bangladesh 38.177\n",
      "Barbados 31.191\n",
      "Belize 46.025\n",
      "Benin 48.415\n",
      "Bhutan 42.316\n",
      "Bosnia and Herzegovina 49.02\n",
      "British Virgin Islands 48.515\n",
      "Burkina Faso 30.607\n",
      "Cambodia 24.232\n",
      "Cameroon 57.56\n",
      "Caribbean small states 51.60437291\n",
      "Central African Republic 42.198\n",
      "Chad 23.52\n",
      "Channel Islands 30.963\n",
      "Comoros 29.38\n",
      "Congo, Dem. Rep. 45.638\n",
      "Cote d'Ivoire 51.706\n",
      "Croatia 57.553\n",
      "Early-demographic dividend 45.87273224\n",
      "East Asia & Pacific (excluding high income) 57.49557346\n",
      "East Asia & Pacific (IDA & IBRD countries) 57.43471789\n",
      "Egypt, Arab Rep. 42.783\n",
      "Eritrea 41.347\n",
      "Eswatini 24.171\n",
      "Ethiopia 21.695\n",
      "Faroe Islands 42.398\n",
      "Fiji 57.247\n",
      "Fragile and conflict affected situations 43.6440886\n",
      "Georgia 59.453\n",
      "Ghana 57.349\n",
      "Grenada 36.537\n",
      "Guatemala 51.836\n",
      "Guinea 36.875\n",
      "Guinea-Bissau 44.196\n",
      "Guyana 26.786\n",
      "Haiti 57.088\n",
      "Heavily indebted poor countries (HIPC) 37.02938085\n",
      "Honduras 58.359\n",
      "IBRD only 56.14019858\n",
      "IDA & IBRD total 51.40295454\n",
      "IDA blend 43.16058765\n",
      "IDA only 35.48995651\n",
      "IDA total 38.06361132\n",
      "India 34.926\n",
      "Indonesia 56.641\n",
      "Isle of Man 52.898\n",
      "Jamaica 56.311\n",
      "Kazakhstan 57.671\n",
      "Kenya 27.995\n",
      "Kiribati 55.594\n",
      "Kyrgyz Republic 36.856\n",
      "Lao PDR 36.29\n",
      "Least developed countries: UN classification 34.72400294\n",
      "Lesotho 29.028\n",
      "Liberia 52.089\n",
      "Low & middle income 51.14586238\n",
      "Low income 33.94649777\n",
      "Lower middle income 42.50561037\n",
      "Madagascar 38.534\n",
      "Maldives 40.669\n",
      "Mali 43.909\n",
      "Mauritania 55.327\n",
      "Mauritius 40.76\n",
      "Micronesia, Fed. Sts. 22.933\n",
      "Middle income 53.20129884\n",
      "Moldova 42.849\n",
      "Mozambique 37.074\n",
      "Myanmar 31.141\n",
      "Namibia 52.033\n",
      "Nepal 20.576\n",
      "Nicaragua 59.012\n",
      "Nigeria 51.958\n",
      "North Macedonia 58.482\n",
      "Pacific island small states 39.09482359\n",
      "Pakistan 37.165\n",
      "Philippines 47.408\n",
      "Pre-demographic dividend 42.47917386\n",
      "Romania 54.194\n",
      "Senegal 48.122\n",
      "Serbia 56.446\n",
      "Seychelles 57.546\n",
      "Sierra Leone 42.923\n",
      "Slovak Republic 53.76\n",
      "Slovenia 55.118\n",
      "Small states 59.47474634\n",
      "Solomon Islands 24.67\n",
      "Somalia 46.141\n",
      "South Asia 34.89320579\n",
      "South Asia (IDA & IBRD) 34.89320579\n",
      "South Sudan 20.199\n",
      "St. Kitts and Nevis 30.843\n",
      "St. Vincent and the Grenadines 53.032\n",
      "Sub-Saharan Africa 41.29441625\n",
      "Sub-Saharan Africa (excluding high income) 41.29302626\n",
      "Sub-Saharan Africa (IDA & IBRD countries) 41.29441625\n",
      "Sudan 35.253\n",
      "Syrian Arab Republic 55.475\n",
      "Tajikistan 27.506\n",
      "Tanzania 35.227\n",
      "Thailand 51.43\n",
      "Timor-Leste 31.32\n",
      "Togo 42.8\n",
      "Tonga 23.099\n",
      "Trinidad and Tobago 53.214\n",
      "Turkmenistan 52.516\n",
      "Uganda 24.954\n",
      "Uzbekistan 50.416\n",
      "Vanuatu 25.525\n",
      "Vietnam 37.34\n",
      "World 56.06376406\n",
      "Yemen, Rep. 37.908\n",
      "Zambia 44.629\n",
      "Zimbabwe 32.242\n",
      "121\n"
     ]
    }
   ],
   "source": [
    "wdi_2020 = pd.read_csv(\"wdi_data/wdi_2020.csv\")\n",
    "\n",
    "frequency_urbanpop_20_60 = 0;\n",
    "\n",
    "for country in range(len(wdi_2020)):\n",
    "    prop_urbanpopulation = wdi_2020.loc[country,'prop_urbanpopulation']\n",
    "    if prop_urbanpopulation >= 20 and prop_urbanpopulation <= 60:\n",
    "       frequency_urbanpop_20_60 += 1\n",
    "       #print(wdi_2020.iloc[country,2],wdi_2020.iloc[country,4])\n",
    "\n",
    "print(frequency_urbanpop_20_60)\n",
    "\n"
   ]
  },
  {
   "attachments": {},
   "cell_type": "markdown",
   "metadata": {},
   "source": [
    "<font size = \"5\">\n",
    "\n",
    "(e) Import Python Scripts\n",
    "\n",
    "- import the functions in \n",
    "\n",
    "``` homework_scripts/auxiliaryfunctions.py ```\n",
    "\n",
    "with the alias \"af\"\n",
    "\n",
    "- Create variable with your name.\n",
    "- Enter the variable in \"fn_message\"\n"
   ]
  },
  {
   "cell_type": "code",
   "execution_count": null,
   "metadata": {},
   "outputs": [],
   "source": [
    "# Write your answer here:\n",
    "\n",
    "\n"
   ]
  },
  {
   "attachments": {},
   "cell_type": "markdown",
   "metadata": {},
   "source": [
    "<font size = \"5\">"
   ]
  }
 ],
 "metadata": {
  "kernelspec": {
   "display_name": "base",
   "language": "python",
   "name": "python3"
  },
  "language_info": {
   "codemirror_mode": {
    "name": "ipython",
    "version": 3
   },
   "file_extension": ".py",
   "mimetype": "text/x-python",
   "name": "python",
   "nbconvert_exporter": "python",
   "pygments_lexer": "ipython3",
   "version": "3.11.5"
  },
  "orig_nbformat": 4,
  "vscode": {
   "interpreter": {
    "hash": "45fc1f684f6f416f40889115beff3ddf69879b64cf4bfee48cb72a61e9d15d1a"
   }
  }
 },
 "nbformat": 4,
 "nbformat_minor": 2
}
